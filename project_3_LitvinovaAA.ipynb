{
 "cells": [
  {
   "attachments": {},
   "cell_type": "markdown",
   "metadata": {},
   "source": [
    "PROJECT-3. Анализ воронки"
   ]
  },
  {
   "attachments": {},
   "cell_type": "markdown",
   "metadata": {},
   "source": [
    "ЦЕЛЬ ПРОЕКТА:\n",
    "Исследовать поведение пользователей в обновлённом приложении Quiz Freeze."
   ]
  },
  {
   "attachments": {},
   "cell_type": "markdown",
   "metadata": {},
   "source": [
    "ЗАДАЧИ:\n",
    "\n",
    "1. Определить, насколько обучение сокращает время прохождения этапов игры.\n",
    "2. Доказать, что успешное обучение само по себе влияет на оплату и не имеет значения то, каким этапом оно шло.\n",
    "3. Определить, насколько прозрачен процесс взаимодействия с игрой."
   ]
  },
  {
   "attachments": {},
   "cell_type": "markdown",
   "metadata": {},
   "source": [
    "ПРЕДВАРИТЕЛЬНАЯ РАБОТА С ДАННЫМИ:"
   ]
  },
  {
   "cell_type": "code",
   "execution_count": 254,
   "metadata": {},
   "outputs": [],
   "source": [
    "#Загружаем библиотеки и датасеты, оставляем данные только за 2018 год:\n",
    "\n",
    "import pandas as pd\n",
    "import numpy as np\n",
    "import seaborn as sns\n",
    "import matplotlib.pyplot as plt\n",
    "%matplotlib inline\n",
    "\n",
    "events_df = pd.read_csv('7_4_Events.csv', sep=',')\n",
    "purchase_df = pd.read_csv('purchase.csv', sep=',')\n",
    "\n",
    "events_df['start_time']=pd.to_datetime(events_df['start_time'], errors = 'coerce')\n",
    "purchase_df['event_datetime']=pd.to_datetime(purchase_df['event_datetime'], errors = 'coerce')\n",
    "mask1 = (events_df['start_time'] >= '2018-01-01') & (events_df['start_time'] < '2019-01-01') & (events_df['event_type']=='registration')\n",
    "users_2018 = events_df[mask1]['user_id'].to_list()\n",
    "events_df = events_df[events_df['user_id'].isin(users_2018)]"
   ]
  },
  {
   "cell_type": "code",
   "execution_count": 255,
   "metadata": {},
   "outputs": [],
   "source": [
    "#Добавляем в датафрейм purchase_df столбец event_type со значением purchase:\n",
    "\n",
    "purchase_df['event_type'] = 'purchase'"
   ]
  },
  {
   "cell_type": "code",
   "execution_count": 256,
   "metadata": {},
   "outputs": [],
   "source": [
    "#Изменяем название столбцов:\n",
    "\n",
    "events_df = events_df.rename(columns={\"id\": \"event_id\"})\n",
    "purchase_df = purchase_df.rename(columns={\"id\": \"purchase_id\", \"event_datetime\": \"start_time\"})"
   ]
  },
  {
   "cell_type": "code",
   "execution_count": 257,
   "metadata": {},
   "outputs": [],
   "source": [
    "#Объединяем датафреймы:\n",
    "\n",
    "total_events_df = pd.concat([events_df,purchase_df],sort=False)"
   ]
  },
  {
   "attachments": {},
   "cell_type": "markdown",
   "metadata": {},
   "source": [
    "ПРОВЕРКА ГИПОТЕЗЫ №1:\n",
    "\"По идее, должна быть разница в поведении групп, которые проходят и не проходят обучение. Но так ли это? Влияет ли обучение на скорость прохождения других этапов игры?\"\n",
    "\n",
    "Сравниваем время прохождения различных этапов для пользователей, которые завершили обучение, и пользователей, не начинавших обучение."
   ]
  },
  {
   "cell_type": "code",
   "execution_count": 258,
   "metadata": {},
   "outputs": [],
   "source": [
    "#Создаем группы пользователей по типу событий:\n",
    "\n",
    "#пользователи, начавшие обучение\n",
    "tutorial_start_users = total_events_df[total_events_df[\"event_type\"] == \"tutorial_start\"][\n",
    "    \"user_id\"\n",
    "].unique()\n",
    "tutorial_start_users= set(tutorial_start_users)\n",
    "\n",
    "#пользователи, закончившие обучение\n",
    "tutorial_finish_users = total_events_df[total_events_df[\"event_type\"] == \"tutorial_finish\"][\n",
    "    \"user_id\"\n",
    "].unique()\n",
    "tutorial_finish_users= set(tutorial_finish_users)"
   ]
  },
  {
   "cell_type": "code",
   "execution_count": 259,
   "metadata": {},
   "outputs": [],
   "source": [
    "#Создаем функцию, разделяющую пользователей на группы:\n",
    "\n",
    "def users_group(id):\n",
    "    if id in tutorial_finish_users:\n",
    "        return 'training_complete'\n",
    "    elif id in tutorial_start_users:\n",
    "        return 'training_started'\n",
    "    else:\n",
    "        return 'not_training'"
   ]
  },
  {
   "cell_type": "code",
   "execution_count": 260,
   "metadata": {},
   "outputs": [],
   "source": [
    "#Добавляем столбец с группой пользователя в датафрейм:\n",
    "total_events_df['users_group'] = total_events_df['user_id'].apply(users_group)"
   ]
  },
  {
   "cell_type": "code",
   "execution_count": 261,
   "metadata": {},
   "outputs": [],
   "source": [
    "#Создаем сводную таблицу:\n",
    "\n",
    "time_delta = total_events_df.pivot_table(\n",
    "    values='start_time',\n",
    "    index=['user_id', 'users_group'],\n",
    "    columns='event_type',\n",
    "    aggfunc=min\n",
    ")"
   ]
  },
  {
   "cell_type": "code",
   "execution_count": 262,
   "metadata": {},
   "outputs": [],
   "source": [
    "#Находим промежутки времени и переводим в числовой формат:\n",
    "\n",
    "time_delta['to_level_choise'] = (time_delta['level_choice'] - time_delta['registration'])/pd.Timedelta('1 hour')\n",
    "time_delta['to_pack_choise'] = (time_delta['pack_choice'] - time_delta['registration'])/pd.Timedelta('1 hour')\n",
    "time_delta['to_purchase'] = (time_delta['purchase'] - time_delta['registration'])/pd.Timedelta('1 hour')"
   ]
  },
  {
   "cell_type": "code",
   "execution_count": 263,
   "metadata": {},
   "outputs": [
    {
     "name": "stderr",
     "output_type": "stream",
     "text": [
      "C:\\Users\\yours\\AppData\\Local\\Temp\\ipykernel_11656\\183626560.py:3: FutureWarning: Indexing with multiple keys (implicitly converted to a tuple of keys) will be deprecated, use a list instead.\n",
      "  median_time = time_delta.groupby('users_group')['to_level_choise', 'to_pack_choise', 'to_purchase'].median()\n"
     ]
    },
    {
     "data": {
      "text/html": [
       "<div>\n",
       "<style scoped>\n",
       "    .dataframe tbody tr th:only-of-type {\n",
       "        vertical-align: middle;\n",
       "    }\n",
       "\n",
       "    .dataframe tbody tr th {\n",
       "        vertical-align: top;\n",
       "    }\n",
       "\n",
       "    .dataframe thead th {\n",
       "        text-align: right;\n",
       "    }\n",
       "</style>\n",
       "<table border=\"1\" class=\"dataframe\">\n",
       "  <thead>\n",
       "    <tr style=\"text-align: right;\">\n",
       "      <th>event_type</th>\n",
       "      <th>to_level_choise</th>\n",
       "      <th>to_pack_choise</th>\n",
       "      <th>to_purchase</th>\n",
       "    </tr>\n",
       "    <tr>\n",
       "      <th>users_group</th>\n",
       "      <th></th>\n",
       "      <th></th>\n",
       "      <th></th>\n",
       "    </tr>\n",
       "  </thead>\n",
       "  <tbody>\n",
       "    <tr>\n",
       "      <th>not_training</th>\n",
       "      <td>4.934861</td>\n",
       "      <td>4.768333</td>\n",
       "      <td>107.485833</td>\n",
       "    </tr>\n",
       "    <tr>\n",
       "      <th>training_complete</th>\n",
       "      <td>6.001944</td>\n",
       "      <td>6.100972</td>\n",
       "      <td>91.083056</td>\n",
       "    </tr>\n",
       "    <tr>\n",
       "      <th>training_started</th>\n",
       "      <td>7.294167</td>\n",
       "      <td>7.530000</td>\n",
       "      <td>101.437222</td>\n",
       "    </tr>\n",
       "  </tbody>\n",
       "</table>\n",
       "</div>"
      ],
      "text/plain": [
       "event_type         to_level_choise  to_pack_choise  to_purchase\n",
       "users_group                                                    \n",
       "not_training              4.934861        4.768333   107.485833\n",
       "training_complete         6.001944        6.100972    91.083056\n",
       "training_started          7.294167        7.530000   101.437222"
      ]
     },
     "metadata": {},
     "output_type": "display_data"
    }
   ],
   "source": [
    "#Находим среднее время:\n",
    "\n",
    "median_time = time_delta.groupby('users_group')['to_level_choise', 'to_pack_choise', 'to_purchase'].median()\n",
    "display(median_time)"
   ]
  },
  {
   "cell_type": "code",
   "execution_count": 264,
   "metadata": {},
   "outputs": [],
   "source": [
    "median_time.reset_index(inplace=True)\n",
    "median_time.drop(labels = [2],axis = 0, inplace=True)"
   ]
  },
  {
   "attachments": {},
   "cell_type": "markdown",
   "metadata": {},
   "source": [
    "ДИАГРАММА ПО ГИПОТЕЗЕ №1"
   ]
  },
  {
   "cell_type": "code",
   "execution_count": 265,
   "metadata": {},
   "outputs": [
    {
     "data": {
      "text/plain": [
       "Text(0, 0.5, 'Время до покупки')"
      ]
     },
     "execution_count": 265,
     "metadata": {},
     "output_type": "execute_result"
    },
    {
     "data": {
      "image/png": "[encoded data removed]",
      "text/plain": [
       "<Figure size 500x1000 with 3 Axes>"
      ]
     },
     "metadata": {},
     "output_type": "display_data"
    }
   ],
   "source": [
    "#Строим столбчатую диаграмму, отражающую время прохождения различных этапов для пользователей, \n",
    "#которые прошли обучение, и для пользователей, не начинавших обучение:\n",
    "\n",
    "fig, axes = plt.subplots(nrows=3, ncols=1, figsize=(5, 10))\n",
    "barplot_1 = sns.barplot(\n",
    "    data=median_time,\n",
    "    x=median_time['users_group'],\n",
    "    y = median_time['to_level_choise'],\n",
    "    palette=\"pastel\",\n",
    "    ax=axes[0]\n",
    "    );\n",
    "barplot_2 = sns.barplot(\n",
    "    data=median_time,\n",
    "    x=median_time['users_group'],\n",
    "    y = median_time['to_pack_choise'],\n",
    "    palette=\"pastel\",\n",
    "    ax=axes[1]\n",
    "    );\n",
    "barplot_3 = sns.barplot(\n",
    "    data=median_time,\n",
    "    x=median_time['users_group'],\n",
    "    y = median_time['to_purchase'],\n",
    "    palette=\"pastel\",\n",
    "    ax=axes[2]\n",
    "    )\n",
    "barplot_1.set_title('Зависимость времени прохожения различных этапов от прохождения обучения')\n",
    "barplot_1.set_xlabel('Группа пользователей')\n",
    "barplot_2.set_xlabel('Группа пользователей')\n",
    "barplot_3.set_xlabel('Группа пользователей')\n",
    "barplot_1.set_ylabel('Время до выбора уровня')\n",
    "barplot_2.set_ylabel('Время до выбора пакета вопросов')\n",
    "barplot_3.set_ylabel('Время до покупки')\n"
   ]
  },
  {
   "attachments": {},
   "cell_type": "markdown",
   "metadata": {},
   "source": [
    "ВЫВОД ПО ГИПОТЕЗЕ №1:\n",
    "В ходе проверки гипотезы №1 мы выяснили, что пользователи, которые не проходят обучение, быстрее переходят к выбору уровня и пакету вопросов.\n",
    "При этом пользователи, которые проходят обучение, быстрее переходят к покупке платных вопросов.\n",
    "Разница в этих показателях минимальна.\n",
    "Исходя из этого можно сделать вывод, что обучение не сокрашает время прохождения этапов игры, гипотеза не верна."
   ]
  },
  {
   "attachments": {},
   "cell_type": "markdown",
   "metadata": {},
   "source": [
    "ПРОВЕРКА ГИПОТЕЗЫ №2\n",
    "\"Кажется, повторное прохождение обучения положительно влияет на оплату, верно?\"\n",
    "\n",
    "Проверяем, существует ли зависимость между вероятностью оплаты вопросов и количеством обучений, которые начинал или завершал пользователь. "
   ]
  },
  {
   "cell_type": "code",
   "execution_count": 266,
   "metadata": {},
   "outputs": [
    {
     "data": {
      "text/html": [
       "<div>\n",
       "<style scoped>\n",
       "    .dataframe tbody tr th:only-of-type {\n",
       "        vertical-align: middle;\n",
       "    }\n",
       "\n",
       "    .dataframe tbody tr th {\n",
       "        vertical-align: top;\n",
       "    }\n",
       "\n",
       "    .dataframe thead th {\n",
       "        text-align: right;\n",
       "    }\n",
       "</style>\n",
       "<table border=\"1\" class=\"dataframe\">\n",
       "  <thead>\n",
       "    <tr style=\"text-align: right;\">\n",
       "      <th></th>\n",
       "      <th>user_id</th>\n",
       "      <th>starts</th>\n",
       "      <th>purchase_id</th>\n",
       "      <th>amount</th>\n",
       "    </tr>\n",
       "  </thead>\n",
       "  <tbody>\n",
       "    <tr>\n",
       "      <th>0</th>\n",
       "      <td>27833</td>\n",
       "      <td>1</td>\n",
       "      <td>NaN</td>\n",
       "      <td>0.0</td>\n",
       "    </tr>\n",
       "    <tr>\n",
       "      <th>1</th>\n",
       "      <td>27834</td>\n",
       "      <td>1</td>\n",
       "      <td>NaN</td>\n",
       "      <td>0.0</td>\n",
       "    </tr>\n",
       "    <tr>\n",
       "      <th>2</th>\n",
       "      <td>27835</td>\n",
       "      <td>1</td>\n",
       "      <td>NaN</td>\n",
       "      <td>0.0</td>\n",
       "    </tr>\n",
       "    <tr>\n",
       "      <th>3</th>\n",
       "      <td>27836</td>\n",
       "      <td>2</td>\n",
       "      <td>NaN</td>\n",
       "      <td>0.0</td>\n",
       "    </tr>\n",
       "    <tr>\n",
       "      <th>4</th>\n",
       "      <td>27839</td>\n",
       "      <td>1</td>\n",
       "      <td>NaN</td>\n",
       "      <td>0.0</td>\n",
       "    </tr>\n",
       "    <tr>\n",
       "      <th>...</th>\n",
       "      <td>...</td>\n",
       "      <td>...</td>\n",
       "      <td>...</td>\n",
       "      <td>...</td>\n",
       "    </tr>\n",
       "    <tr>\n",
       "      <th>11853</th>\n",
       "      <td>47748</td>\n",
       "      <td>1</td>\n",
       "      <td>NaN</td>\n",
       "      <td>0.0</td>\n",
       "    </tr>\n",
       "    <tr>\n",
       "      <th>11854</th>\n",
       "      <td>47751</td>\n",
       "      <td>1</td>\n",
       "      <td>NaN</td>\n",
       "      <td>0.0</td>\n",
       "    </tr>\n",
       "    <tr>\n",
       "      <th>11855</th>\n",
       "      <td>47753</td>\n",
       "      <td>1</td>\n",
       "      <td>NaN</td>\n",
       "      <td>0.0</td>\n",
       "    </tr>\n",
       "    <tr>\n",
       "      <th>11856</th>\n",
       "      <td>47755</td>\n",
       "      <td>1</td>\n",
       "      <td>NaN</td>\n",
       "      <td>0.0</td>\n",
       "    </tr>\n",
       "    <tr>\n",
       "      <th>11857</th>\n",
       "      <td>47756</td>\n",
       "      <td>1</td>\n",
       "      <td>NaN</td>\n",
       "      <td>0.0</td>\n",
       "    </tr>\n",
       "  </tbody>\n",
       "</table>\n",
       "<p>11858 rows × 4 columns</p>\n",
       "</div>"
      ],
      "text/plain": [
       "       user_id  starts  purchase_id  amount\n",
       "0        27833       1          NaN     0.0\n",
       "1        27834       1          NaN     0.0\n",
       "2        27835       1          NaN     0.0\n",
       "3        27836       2          NaN     0.0\n",
       "4        27839       1          NaN     0.0\n",
       "...        ...     ...          ...     ...\n",
       "11853    47748       1          NaN     0.0\n",
       "11854    47751       1          NaN     0.0\n",
       "11855    47753       1          NaN     0.0\n",
       "11856    47755       1          NaN     0.0\n",
       "11857    47756       1          NaN     0.0\n",
       "\n",
       "[11858 rows x 4 columns]"
      ]
     },
     "execution_count": 266,
     "metadata": {},
     "output_type": "execute_result"
    }
   ],
   "source": [
    "#Группируем данные для определения, сколько попыток обучения было у каждого пользователя:\n",
    "\n",
    "tutorial_starts = total_events_df[total_events_df['event_type'] == 'tutorial_start']\n",
    "tutorial_starts = tutorial_starts.groupby('user_id')['event_type'].value_counts().to_frame()\n",
    "tutorial_starts_df = pd.DataFrame(tutorial_starts)\n",
    "tutorial_starts_df.columns = ['starts']\n",
    "tutorial_starts_df = tutorial_starts.reset_index()\n",
    "tutorial_starts_df = tutorial_starts_df.drop('event_type', axis=1)\n",
    "tutorial_starts_df = tutorial_starts_df.merge(purchase_df, how = 'left', on = 'user_id')\n",
    "tutorial_starts_df = tutorial_starts_df.drop(['start_time', 'event_type'], axis=1)\n",
    "tutorial_starts_df['amount'] = tutorial_starts_df['amount'].fillna(0)\n",
    "tutorial_starts_df"
   ]
  },
  {
   "cell_type": "code",
   "execution_count": 267,
   "metadata": {},
   "outputs": [
    {
     "data": {
      "text/html": [
       "<div>\n",
       "<style scoped>\n",
       "    .dataframe tbody tr th:only-of-type {\n",
       "        vertical-align: middle;\n",
       "    }\n",
       "\n",
       "    .dataframe tbody tr th {\n",
       "        vertical-align: top;\n",
       "    }\n",
       "\n",
       "    .dataframe thead th {\n",
       "        text-align: right;\n",
       "    }\n",
       "</style>\n",
       "<table border=\"1\" class=\"dataframe\">\n",
       "  <thead>\n",
       "    <tr style=\"text-align: right;\">\n",
       "      <th></th>\n",
       "      <th>starts</th>\n",
       "      <th>users</th>\n",
       "      <th>clients</th>\n",
       "      <th>total_amount</th>\n",
       "      <th>conversion</th>\n",
       "    </tr>\n",
       "  </thead>\n",
       "  <tbody>\n",
       "    <tr>\n",
       "      <th>0</th>\n",
       "      <td>1</td>\n",
       "      <td>9103</td>\n",
       "      <td>1207</td>\n",
       "      <td>132475.0</td>\n",
       "      <td>13.26</td>\n",
       "    </tr>\n",
       "    <tr>\n",
       "      <th>1</th>\n",
       "      <td>2</td>\n",
       "      <td>1589</td>\n",
       "      <td>218</td>\n",
       "      <td>24950.0</td>\n",
       "      <td>13.72</td>\n",
       "    </tr>\n",
       "    <tr>\n",
       "      <th>2</th>\n",
       "      <td>3</td>\n",
       "      <td>427</td>\n",
       "      <td>51</td>\n",
       "      <td>5675.0</td>\n",
       "      <td>11.94</td>\n",
       "    </tr>\n",
       "    <tr>\n",
       "      <th>3</th>\n",
       "      <td>4</td>\n",
       "      <td>221</td>\n",
       "      <td>30</td>\n",
       "      <td>2950.0</td>\n",
       "      <td>13.57</td>\n",
       "    </tr>\n",
       "    <tr>\n",
       "      <th>4</th>\n",
       "      <td>5</td>\n",
       "      <td>109</td>\n",
       "      <td>16</td>\n",
       "      <td>1950.0</td>\n",
       "      <td>14.68</td>\n",
       "    </tr>\n",
       "    <tr>\n",
       "      <th>5</th>\n",
       "      <td>6</td>\n",
       "      <td>116</td>\n",
       "      <td>14</td>\n",
       "      <td>1675.0</td>\n",
       "      <td>12.07</td>\n",
       "    </tr>\n",
       "    <tr>\n",
       "      <th>6</th>\n",
       "      <td>7</td>\n",
       "      <td>94</td>\n",
       "      <td>12</td>\n",
       "      <td>1325.0</td>\n",
       "      <td>12.77</td>\n",
       "    </tr>\n",
       "    <tr>\n",
       "      <th>7</th>\n",
       "      <td>8</td>\n",
       "      <td>86</td>\n",
       "      <td>13</td>\n",
       "      <td>1350.0</td>\n",
       "      <td>15.12</td>\n",
       "    </tr>\n",
       "    <tr>\n",
       "      <th>8</th>\n",
       "      <td>9</td>\n",
       "      <td>113</td>\n",
       "      <td>17</td>\n",
       "      <td>2000.0</td>\n",
       "      <td>15.04</td>\n",
       "    </tr>\n",
       "  </tbody>\n",
       "</table>\n",
       "</div>"
      ],
      "text/plain": [
       "   starts  users  clients  total_amount  conversion\n",
       "0       1   9103     1207      132475.0       13.26\n",
       "1       2   1589      218       24950.0       13.72\n",
       "2       3    427       51        5675.0       11.94\n",
       "3       4    221       30        2950.0       13.57\n",
       "4       5    109       16        1950.0       14.68\n",
       "5       6    116       14        1675.0       12.07\n",
       "6       7     94       12        1325.0       12.77\n",
       "7       8     86       13        1350.0       15.12\n",
       "8       9    113       17        2000.0       15.04"
      ]
     },
     "execution_count": 267,
     "metadata": {},
     "output_type": "execute_result"
    }
   ],
   "source": [
    "#Создаем группы пользователей по количеству попыток обучения:\n",
    "\n",
    "number_of_users = tutorial_starts_df.groupby('starts').agg({'user_id': ['count'], 'purchase_id': ['count'], 'amount': ['sum']})\n",
    "number_of_users_df = pd.DataFrame(number_of_users)\n",
    "number_of_users_df.columns = ['users', 'clients', 'total_amount']\n",
    "number_of_users_df = number_of_users_df.reset_index()\n",
    "\n",
    "#Находим конверсию из пользователей в клиенты для каждой группы:\n",
    "number_of_users_df['conversion'] = (number_of_users_df['clients'] / number_of_users_df['users'] * 100).round(2)\n",
    "number_of_users_df"
   ]
  },
  {
   "cell_type": "code",
   "execution_count": 268,
   "metadata": {},
   "outputs": [
    {
     "name": "stdout",
     "output_type": "stream",
     "text": [
      "Средний процент конверсии среди пользователей, начинавших обучение: 13.57 %\n"
     ]
    }
   ],
   "source": [
    "#Находим средний процент коверсии:\n",
    "\n",
    "mean_conversion = number_of_users_df['conversion'].mean().round(2)\n",
    "print('Средний процент конверсии среди пользователей, начинавших обучение:', mean_conversion, '%')"
   ]
  },
  {
   "attachments": {},
   "cell_type": "markdown",
   "metadata": {},
   "source": [
    "ДИАГРАММА ПО ГИПОТЕЗЕ №2"
   ]
  },
  {
   "cell_type": "code",
   "execution_count": 269,
   "metadata": {},
   "outputs": [
    {
     "data": {
      "text/plain": [
       "Text(0, 0.5, 'Конверсия')"
      ]
     },
     "execution_count": 269,
     "metadata": {},
     "output_type": "execute_result"
    },
    {
     "data": {
      "image/png": "[encoded data removed]",
      "text/plain": [
       "<Figure size 640x480 with 1 Axes>"
      ]
     },
     "metadata": {},
     "output_type": "display_data"
    }
   ],
   "source": [
    "#Строим столбчатую диаграмму, отражающую зависимость конверсии от количества попыток обучения:\n",
    "\n",
    "barplot_4 = sns.barplot(\n",
    "    data=number_of_users_df,\n",
    "    x=number_of_users_df['starts'],\n",
    "    y = number_of_users_df['conversion'],\n",
    "    palette=\"pastel\",\n",
    "    )\n",
    "barplot_4.set_title('Зависимость конверсии от количества попыток обучения')\n",
    "barplot_4.set_xlabel('Количество попыток обучения')\n",
    "barplot_4.set_ylabel('Конверсия')\n"
   ]
  },
  {
   "attachments": {},
   "cell_type": "markdown",
   "metadata": {},
   "source": [
    "ВЫВОД ПО ГИПОТЕЗЕ №2: В ходе проверки гипотезы №2 мы выяснили, что процент конверсии по группам пользователей, начинавших проходить обучение разное количество раз, не имеет большого отличия. В среднем процент конверсии составляет 13.57%.\n",
    "Исходя из этого можем сделать вывод, что количество обучений не влияет на вероятность покупки платных вопросов пользователем, начало прохождения обучения само по себе хорошо влияет на оплату, так как мы имеем высокий средний процент конверсии. Гипотеза не верна."
   ]
  },
  {
   "attachments": {},
   "cell_type": "markdown",
   "metadata": {},
   "source": [
    "ПРОВЕРКА ГИПОТЕЗЫ №3\n",
    "\"Если пользователь сначала выбирает сложность обучения, будет ли он потом проходить обучение?\"\n",
    "\n",
    "Определяем, как часто пользователи начинают обучение после выбора уровня сложности. "
   ]
  },
  {
   "cell_type": "code",
   "execution_count": 270,
   "metadata": {},
   "outputs": [],
   "source": [
    "#Выделяем датафрейм с выбором уровня сложности:\n",
    "\n",
    "choices = total_events_df[total_events_df['event_type'] == 'level_choice']\n",
    "choices = choices.drop(['purchase_id', 'amount', 'users_group', 'selected_level', 'tutorial_id'], axis= 1)\n",
    "choices.columns = ['level_choice_id', 'level_choice', 'level_choice_time', 'user_id']"
   ]
  },
  {
   "cell_type": "code",
   "execution_count": 271,
   "metadata": {},
   "outputs": [],
   "source": [
    "#Выделяем датафрейм с началом обучения:\n",
    "\n",
    "starts = total_events_df[total_events_df['event_type'] == 'tutorial_start']\n",
    "starts = starts.drop(['purchase_id', 'amount', 'users_group', 'selected_level', 'tutorial_id'], axis= 1)\n",
    "starts.columns = ['tutorial_start_id', 'tutorial_start', 'tutorial_start_time', 'user_id']"
   ]
  },
  {
   "cell_type": "code",
   "execution_count": 272,
   "metadata": {},
   "outputs": [],
   "source": [
    "#Объединяем два датафрейма:\n",
    "\n",
    "merged_df = choices.merge(starts, how = 'inner', on = 'user_id')"
   ]
  },
  {
   "cell_type": "code",
   "execution_count": 273,
   "metadata": {},
   "outputs": [
    {
     "data": {
      "text/html": [
       "<div>\n",
       "<style scoped>\n",
       "    .dataframe tbody tr th:only-of-type {\n",
       "        vertical-align: middle;\n",
       "    }\n",
       "\n",
       "    .dataframe tbody tr th {\n",
       "        vertical-align: top;\n",
       "    }\n",
       "\n",
       "    .dataframe thead th {\n",
       "        text-align: right;\n",
       "    }\n",
       "</style>\n",
       "<table border=\"1\" class=\"dataframe\">\n",
       "  <thead>\n",
       "    <tr style=\"text-align: right;\">\n",
       "      <th></th>\n",
       "      <th>level_choice_id</th>\n",
       "      <th>level_choice</th>\n",
       "      <th>level_choice_time</th>\n",
       "      <th>user_id</th>\n",
       "      <th>tutorial_start_id</th>\n",
       "      <th>tutorial_start</th>\n",
       "      <th>tutorial_start_time</th>\n",
       "      <th>time_delta</th>\n",
       "    </tr>\n",
       "  </thead>\n",
       "  <tbody>\n",
       "    <tr>\n",
       "      <th>0</th>\n",
       "      <td>80327.0</td>\n",
       "      <td>level_choice</td>\n",
       "      <td>2018-01-01 20:37:22</td>\n",
       "      <td>27835</td>\n",
       "      <td>80316.0</td>\n",
       "      <td>tutorial_start</td>\n",
       "      <td>2018-01-01 15:00:51</td>\n",
       "      <td>-5.608611</td>\n",
       "    </tr>\n",
       "    <tr>\n",
       "      <th>1</th>\n",
       "      <td>80331.0</td>\n",
       "      <td>level_choice</td>\n",
       "      <td>2018-01-01 22:37:50</td>\n",
       "      <td>27839</td>\n",
       "      <td>80323.0</td>\n",
       "      <td>tutorial_start</td>\n",
       "      <td>2018-01-01 19:11:36</td>\n",
       "      <td>-3.437222</td>\n",
       "    </tr>\n",
       "    <tr>\n",
       "      <th>2</th>\n",
       "      <td>80344.0</td>\n",
       "      <td>level_choice</td>\n",
       "      <td>2018-01-02 05:18:42</td>\n",
       "      <td>27840</td>\n",
       "      <td>80337.0</td>\n",
       "      <td>tutorial_start</td>\n",
       "      <td>2018-01-02 02:07:07</td>\n",
       "      <td>-3.193056</td>\n",
       "    </tr>\n",
       "    <tr>\n",
       "      <th>3</th>\n",
       "      <td>80346.0</td>\n",
       "      <td>level_choice</td>\n",
       "      <td>2018-01-02 06:19:18</td>\n",
       "      <td>27845</td>\n",
       "      <td>80338.0</td>\n",
       "      <td>tutorial_start</td>\n",
       "      <td>2018-01-02 03:03:44</td>\n",
       "      <td>-3.259444</td>\n",
       "    </tr>\n",
       "    <tr>\n",
       "      <th>4</th>\n",
       "      <td>80346.0</td>\n",
       "      <td>level_choice</td>\n",
       "      <td>2018-01-02 06:19:18</td>\n",
       "      <td>27845</td>\n",
       "      <td>80349.0</td>\n",
       "      <td>tutorial_start</td>\n",
       "      <td>2018-01-02 07:08:00</td>\n",
       "      <td>0.811667</td>\n",
       "    </tr>\n",
       "    <tr>\n",
       "      <th>...</th>\n",
       "      <td>...</td>\n",
       "      <td>...</td>\n",
       "      <td>...</td>\n",
       "      <td>...</td>\n",
       "      <td>...</td>\n",
       "      <td>...</td>\n",
       "      <td>...</td>\n",
       "      <td>...</td>\n",
       "    </tr>\n",
       "    <tr>\n",
       "      <th>12681</th>\n",
       "      <td>147240.0</td>\n",
       "      <td>level_choice</td>\n",
       "      <td>2018-12-31 09:59:00</td>\n",
       "      <td>47732</td>\n",
       "      <td>147236.0</td>\n",
       "      <td>tutorial_start</td>\n",
       "      <td>2018-12-31 07:14:38</td>\n",
       "      <td>-2.739444</td>\n",
       "    </tr>\n",
       "    <tr>\n",
       "      <th>12682</th>\n",
       "      <td>147245.0</td>\n",
       "      <td>level_choice</td>\n",
       "      <td>2018-12-31 12:24:40</td>\n",
       "      <td>47747</td>\n",
       "      <td>147242.0</td>\n",
       "      <td>tutorial_start</td>\n",
       "      <td>2018-12-31 10:21:11</td>\n",
       "      <td>-2.058056</td>\n",
       "    </tr>\n",
       "    <tr>\n",
       "      <th>12683</th>\n",
       "      <td>147256.0</td>\n",
       "      <td>level_choice</td>\n",
       "      <td>2018-12-31 22:36:19</td>\n",
       "      <td>47753</td>\n",
       "      <td>147253.0</td>\n",
       "      <td>tutorial_start</td>\n",
       "      <td>2018-12-31 20:54:56</td>\n",
       "      <td>-1.689722</td>\n",
       "    </tr>\n",
       "    <tr>\n",
       "      <th>12684</th>\n",
       "      <td>147265.0</td>\n",
       "      <td>level_choice</td>\n",
       "      <td>2019-01-01 05:04:52</td>\n",
       "      <td>47755</td>\n",
       "      <td>147260.0</td>\n",
       "      <td>tutorial_start</td>\n",
       "      <td>2019-01-01 00:08:14</td>\n",
       "      <td>-4.943889</td>\n",
       "    </tr>\n",
       "    <tr>\n",
       "      <th>12685</th>\n",
       "      <td>147266.0</td>\n",
       "      <td>level_choice</td>\n",
       "      <td>2019-01-01 05:42:11</td>\n",
       "      <td>47756</td>\n",
       "      <td>147262.0</td>\n",
       "      <td>tutorial_start</td>\n",
       "      <td>2019-01-01 03:26:18</td>\n",
       "      <td>-2.264722</td>\n",
       "    </tr>\n",
       "  </tbody>\n",
       "</table>\n",
       "<p>12686 rows × 8 columns</p>\n",
       "</div>"
      ],
      "text/plain": [
       "       level_choice_id  level_choice   level_choice_time  user_id  \\\n",
       "0              80327.0  level_choice 2018-01-01 20:37:22    27835   \n",
       "1              80331.0  level_choice 2018-01-01 22:37:50    27839   \n",
       "2              80344.0  level_choice 2018-01-02 05:18:42    27840   \n",
       "3              80346.0  level_choice 2018-01-02 06:19:18    27845   \n",
       "4              80346.0  level_choice 2018-01-02 06:19:18    27845   \n",
       "...                ...           ...                 ...      ...   \n",
       "12681         147240.0  level_choice 2018-12-31 09:59:00    47732   \n",
       "12682         147245.0  level_choice 2018-12-31 12:24:40    47747   \n",
       "12683         147256.0  level_choice 2018-12-31 22:36:19    47753   \n",
       "12684         147265.0  level_choice 2019-01-01 05:04:52    47755   \n",
       "12685         147266.0  level_choice 2019-01-01 05:42:11    47756   \n",
       "\n",
       "       tutorial_start_id  tutorial_start tutorial_start_time  time_delta  \n",
       "0                80316.0  tutorial_start 2018-01-01 15:00:51   -5.608611  \n",
       "1                80323.0  tutorial_start 2018-01-01 19:11:36   -3.437222  \n",
       "2                80337.0  tutorial_start 2018-01-02 02:07:07   -3.193056  \n",
       "3                80338.0  tutorial_start 2018-01-02 03:03:44   -3.259444  \n",
       "4                80349.0  tutorial_start 2018-01-02 07:08:00    0.811667  \n",
       "...                  ...             ...                 ...         ...  \n",
       "12681           147236.0  tutorial_start 2018-12-31 07:14:38   -2.739444  \n",
       "12682           147242.0  tutorial_start 2018-12-31 10:21:11   -2.058056  \n",
       "12683           147253.0  tutorial_start 2018-12-31 20:54:56   -1.689722  \n",
       "12684           147260.0  tutorial_start 2019-01-01 00:08:14   -4.943889  \n",
       "12685           147262.0  tutorial_start 2019-01-01 03:26:18   -2.264722  \n",
       "\n",
       "[12686 rows x 8 columns]"
      ]
     },
     "execution_count": 273,
     "metadata": {},
     "output_type": "execute_result"
    }
   ],
   "source": [
    "#Отнимаем от времени старта обучения время выбора уровня сложности, переводим в числовой формат:\n",
    "\n",
    "merged_df['time_delta'] = merged_df['tutorial_start_time'] - merged_df['level_choice_time']\n",
    "merged_df['time_delta'] = merged_df['time_delta']/pd.Timedelta('1 hour')\n",
    "merged_df"
   ]
  },
  {
   "cell_type": "code",
   "execution_count": 274,
   "metadata": {},
   "outputs": [
    {
     "name": "stdout",
     "output_type": "stream",
     "text": [
      "Количество пользователей, которые начинали проходить обучение несколько раз: 1386 человек\n"
     ]
    }
   ],
   "source": [
    "#Находим количество пользователей, которые начинали проходить обучение несколько раз(положительные значения time_delta):\n",
    "\n",
    "users_df = merged_df[merged_df['time_delta'] > 0]\n",
    "few_tutorials_users = users_df.groupby('user_id')['user_id'].nunique().count()\n",
    "print('Количество пользователей, которые начинали проходить обучение несколько раз:', few_tutorials_users, 'человек')\n"
   ]
  },
  {
   "cell_type": "code",
   "execution_count": 275,
   "metadata": {},
   "outputs": [
    {
     "name": "stdout",
     "output_type": "stream",
     "text": [
      "Количество пользователей, которые выбирали уровень сложности: 8342 человек\n"
     ]
    }
   ],
   "source": [
    "#Находим общее количество пользователей, которые выбирали уровень сложности:\n",
    "\n",
    "level_chosen_users = choices.groupby('user_id')['user_id'].nunique().count()\n",
    "level_chosen_users\n",
    "print('Количество пользователей, которые выбирали уровень сложности:', level_chosen_users, 'человек')"
   ]
  },
  {
   "cell_type": "code",
   "execution_count": 276,
   "metadata": {},
   "outputs": [
    {
     "name": "stdout",
     "output_type": "stream",
     "text": [
      "Процент пользователей, которые начинали проходить обучение несколько раз, от пользователей, которые выбирали уровень сложности: 16.61 %\n"
     ]
    }
   ],
   "source": [
    "#Находим процент пользователей, которые начинали проходить обучение несколько раз, от пользователей, которые выбирали уровень сложности:\n",
    "\n",
    "percent_of_users = (few_tutorials_users / level_chosen_users * 100).round(2)\n",
    "print('Процент пользователей, которые начинали проходить обучение несколько раз, от пользователей, которые выбирали уровень сложности:', percent_of_users,'%')\n"
   ]
  },
  {
   "attachments": {},
   "cell_type": "markdown",
   "metadata": {},
   "source": [
    "ВЫВОД ПО ГИПОТЕЗЕ №3:\n",
    "В ходе проверки гипотезы №3 мы выяснили, что не так много пользователей начинают проходить обучение после выбора уровня сложности, всего 16.61%.\n",
    "Процесс взаимодействия с игрой довольно прозрачный, большинству пользователей понятна работа с приложением."
   ]
  }
 ],
 "metadata": {
  "kernelspec": {
   "display_name": "Python 3",
   "language": "python",
   "name": "python3"
  },
  "language_info": {
   "codemirror_mode": {
    "name": "ipython",
    "version": 3
   },
   "file_extension": ".py",
   "mimetype": "text/x-python",
   "name": "python",
   "nbconvert_exporter": "python",
   "pygments_lexer": "ipython3",
   "version": "3.11.2"
  },
  "orig_nbformat": 4
 },
 "nbformat": 4,
 "nbformat_minor": 2
}
