{
 "cells": [
  {
   "attachments": {},
   "cell_type": "markdown",
   "metadata": {},
   "source": [
    "### PROJECT-4. Решение комплексной бизнес-задачи\n"
   ]
  },
  {
   "attachments": {},
   "cell_type": "markdown",
   "metadata": {},
   "source": [
    "##### ЦЕЛЬ ПРОЕКТА: \n",
    "Подготовить основу рекомендательной системы курсов для онлайн-школы MasterMind."
   ]
  },
  {
   "attachments": {},
   "cell_type": "markdown",
   "metadata": {},
   "source": [
    "##### ЗАДАЧИ:\n",
    "1. Познакомиться с датасетом, подготовить и проанализировать данные с помощью SQL.\n",
    "2. Обработать данные средствами Python.\n",
    "3. Составить итоговую таблицу с рекомендациями."
   ]
  },
  {
   "attachments": {},
   "cell_type": "markdown",
   "metadata": {},
   "source": [
    "1. Создаем SQL-запрос для получения необходимых данных:"
   ]
  },
  {
   "cell_type": "code",
   "execution_count": 14,
   "metadata": {
    "vscode": {
     "languageId": "sql"
    }
   },
   "outputs": [],
   "source": [
    "#WITH count_users AS (\n",
    "  #SELECT \n",
    "    #user_id, \n",
    "    #COUNT (resource_id) AS count_cours \n",
    "  #FROM \n",
    "    #final.carts AS c \n",
    "    #JOIN final.cart_items AS ci ON ci.cart_id = c.id \n",
    "  #WHERE \n",
    "    #state = 'successful' \n",
    "    #AND resource_type = 'Course' \n",
    "  #GROUP BY \n",
    "    #user_id \n",
    "  #HAVING \n",
    "    #COUNT (DISTINCT resource_id) > 1\n",
    "#) \n",
    "#SELECT \n",
    "  #DISTINCT count_users.user_id, \n",
    "  #resource_id \n",
    "#FROM \n",
    "  #final.carts AS c \n",
    "  #JOIN final.cart_items AS ci ON ci.cart_id = c.id \n",
    "  #RIGHT JOIN count_users ON c.user_id = count_users.user_id \n",
    "#WHERE \n",
    "  #state = 'successful' \n",
    "  #AND resource_type = 'Course' \n",
    "#ORDER BY \n",
    "  #count_users.user_id, \n",
    "  #resource_id"
   ]
  },
  {
   "attachments": {},
   "cell_type": "markdown",
   "metadata": {},
   "source": [
    "2. Обрабатываем данные средствами python:"
   ]
  },
  {
   "cell_type": "code",
   "execution_count": 15,
   "metadata": {},
   "outputs": [],
   "source": [
    "#Загружаем библиотеки и данные, которые мы получили ранее с помощью sql-запроса\n",
    "import pandas as pd\n",
    "import numpy as np\n",
    "import itertools as it\n",
    "import collections as cl\n",
    "sales_df = pd.read_csv('users.csv')"
   ]
  },
  {
   "cell_type": "code",
   "execution_count": 16,
   "metadata": {},
   "outputs": [
    {
     "data": {
      "text/html": [
       "<div>\n",
       "<style scoped>\n",
       "    .dataframe tbody tr th:only-of-type {\n",
       "        vertical-align: middle;\n",
       "    }\n",
       "\n",
       "    .dataframe tbody tr th {\n",
       "        vertical-align: top;\n",
       "    }\n",
       "\n",
       "    .dataframe thead th {\n",
       "        text-align: right;\n",
       "    }\n",
       "</style>\n",
       "<table border=\"1\" class=\"dataframe\">\n",
       "  <thead>\n",
       "    <tr style=\"text-align: right;\">\n",
       "      <th></th>\n",
       "      <th>user_id</th>\n",
       "      <th>resource_id</th>\n",
       "    </tr>\n",
       "  </thead>\n",
       "  <tbody>\n",
       "    <tr>\n",
       "      <th>0</th>\n",
       "      <td>51</td>\n",
       "      <td>[516, 1099]</td>\n",
       "    </tr>\n",
       "    <tr>\n",
       "      <th>1</th>\n",
       "      <td>6117</td>\n",
       "      <td>[356, 357, 1125]</td>\n",
       "    </tr>\n",
       "    <tr>\n",
       "      <th>2</th>\n",
       "      <td>10275</td>\n",
       "      <td>[553, 1147]</td>\n",
       "    </tr>\n",
       "    <tr>\n",
       "      <th>3</th>\n",
       "      <td>10457</td>\n",
       "      <td>[361, 1138]</td>\n",
       "    </tr>\n",
       "    <tr>\n",
       "      <th>4</th>\n",
       "      <td>17166</td>\n",
       "      <td>[356, 357]</td>\n",
       "    </tr>\n",
       "    <tr>\n",
       "      <th>...</th>\n",
       "      <td>...</td>\n",
       "      <td>...</td>\n",
       "    </tr>\n",
       "    <tr>\n",
       "      <th>12651</th>\n",
       "      <td>2179430</td>\n",
       "      <td>[566, 750]</td>\n",
       "    </tr>\n",
       "    <tr>\n",
       "      <th>12652</th>\n",
       "      <td>2186581</td>\n",
       "      <td>[794, 864, 1129]</td>\n",
       "    </tr>\n",
       "    <tr>\n",
       "      <th>12653</th>\n",
       "      <td>2187601</td>\n",
       "      <td>[356, 553, 571, 765, 912]</td>\n",
       "    </tr>\n",
       "    <tr>\n",
       "      <th>12654</th>\n",
       "      <td>2188926</td>\n",
       "      <td>[515, 743]</td>\n",
       "    </tr>\n",
       "    <tr>\n",
       "      <th>12655</th>\n",
       "      <td>2190141</td>\n",
       "      <td>[756, 794, 1185]</td>\n",
       "    </tr>\n",
       "  </tbody>\n",
       "</table>\n",
       "<p>12656 rows × 2 columns</p>\n",
       "</div>"
      ],
      "text/plain": [
       "       user_id                resource_id\n",
       "0           51                [516, 1099]\n",
       "1         6117           [356, 357, 1125]\n",
       "2        10275                [553, 1147]\n",
       "3        10457                [361, 1138]\n",
       "4        17166                 [356, 357]\n",
       "...        ...                        ...\n",
       "12651  2179430                 [566, 750]\n",
       "12652  2186581           [794, 864, 1129]\n",
       "12653  2187601  [356, 553, 571, 765, 912]\n",
       "12654  2188926                 [515, 743]\n",
       "12655  2190141           [756, 794, 1185]\n",
       "\n",
       "[12656 rows x 2 columns]"
      ]
     },
     "execution_count": 16,
     "metadata": {},
     "output_type": "execute_result"
    }
   ],
   "source": [
    "#Группируем покупки курсов по пользователям\n",
    "courses_df = sales_df.groupby(['user_id'])['resource_id'].apply(lambda x:list(np.unique(x))).reset_index()\n",
    "courses_df"
   ]
  },
  {
   "cell_type": "code",
   "execution_count": 17,
   "metadata": {},
   "outputs": [],
   "source": [
    "#Разбиваем все покупки курсов по парам\n",
    "courses = list(courses_df['resource_id'].apply(lambda y: list(it.combinations(y, 2))))\n",
    "from itertools import chain\n",
    "courses_list = list(chain.from_iterable(courses))"
   ]
  },
  {
   "cell_type": "code",
   "execution_count": 18,
   "metadata": {},
   "outputs": [],
   "source": [
    "#Считаем, сколько раз встречается каждая пара\n",
    "from collections import Counter\n",
    "courses_pairs = Counter(courses_list)\n",
    "courses_dict = dict(courses_pairs)"
   ]
  },
  {
   "cell_type": "code",
   "execution_count": 19,
   "metadata": {},
   "outputs": [],
   "source": [
    "#Создаем функцию рекомендаций, которая на вход получает id курса и возвращает два самых часто продаваемых курса с тем, что получен на вход\n",
    "def recomendations(course_id):\n",
    "    recomm_list = []\n",
    "    for i in courses_dict.keys():\n",
    "        if i[0] == course_id:\n",
    "            recomm_list.append((i, courses_dict[i]))\n",
    "        elif i[1] == course_id:\n",
    "            recomm_list.append((i, courses_dict[i]))\n",
    "    recomm_list = sorted(recomm_list, key = lambda a: a[1], reverse=True)\n",
    "    return recomm_list[:2]"
   ]
  },
  {
   "cell_type": "code",
   "execution_count": 20,
   "metadata": {},
   "outputs": [],
   "source": [
    "#Создаем список с уникальными id курсов\n",
    "сourse_list = np.unique(sales_df['resource_id']).tolist()"
   ]
  },
  {
   "cell_type": "code",
   "execution_count": 21,
   "metadata": {},
   "outputs": [
    {
     "data": {
      "text/plain": [
       "[((551, 566), 797)]"
      ]
     },
     "execution_count": 21,
     "metadata": {},
     "output_type": "execute_result"
    }
   ],
   "source": [
    "#Определяем самую популярную пару курсов\n",
    "courses_pairs.most_common(1)"
   ]
  },
  {
   "attachments": {},
   "cell_type": "markdown",
   "metadata": {},
   "source": [
    "3. Создаем итоговую таблицу рекомендаций:"
   ]
  },
  {
   "attachments": {},
   "cell_type": "markdown",
   "metadata": {},
   "source": [
    "На основании подсчета количества встречаемости пар курсов, выбрали минимальную границу - 10\n"
   ]
  },
  {
   "attachments": {},
   "cell_type": "markdown",
   "metadata": {},
   "source": [
    "Для остальных курсов будем рекомендовать самые популярные курсы (551, 566)"
   ]
  },
  {
   "cell_type": "code",
   "execution_count": 22,
   "metadata": {},
   "outputs": [
    {
     "data": {
      "text/html": [
       "<div>\n",
       "<style scoped>\n",
       "    .dataframe tbody tr th:only-of-type {\n",
       "        vertical-align: middle;\n",
       "    }\n",
       "\n",
       "    .dataframe tbody tr th {\n",
       "        vertical-align: top;\n",
       "    }\n",
       "\n",
       "    .dataframe thead th {\n",
       "        text-align: right;\n",
       "    }\n",
       "</style>\n",
       "<table border=\"1\" class=\"dataframe\">\n",
       "  <thead>\n",
       "    <tr style=\"text-align: right;\">\n",
       "      <th></th>\n",
       "      <th>first_rec</th>\n",
       "      <th>second_rec</th>\n",
       "    </tr>\n",
       "  </thead>\n",
       "  <tbody>\n",
       "    <tr>\n",
       "      <th>356</th>\n",
       "      <td>571</td>\n",
       "      <td>357</td>\n",
       "    </tr>\n",
       "    <tr>\n",
       "      <th>357</th>\n",
       "      <td>571</td>\n",
       "      <td>356</td>\n",
       "    </tr>\n",
       "    <tr>\n",
       "      <th>358</th>\n",
       "      <td>570</td>\n",
       "      <td>752</td>\n",
       "    </tr>\n",
       "    <tr>\n",
       "      <th>359</th>\n",
       "      <td>570</td>\n",
       "      <td>358</td>\n",
       "    </tr>\n",
       "    <tr>\n",
       "      <th>360</th>\n",
       "      <td>745</td>\n",
       "      <td>516</td>\n",
       "    </tr>\n",
       "    <tr>\n",
       "      <th>361</th>\n",
       "      <td>551</td>\n",
       "      <td>1138</td>\n",
       "    </tr>\n",
       "    <tr>\n",
       "      <th>362</th>\n",
       "      <td>363</td>\n",
       "      <td>551</td>\n",
       "    </tr>\n",
       "    <tr>\n",
       "      <th>363</th>\n",
       "      <td>511</td>\n",
       "      <td>562</td>\n",
       "    </tr>\n",
       "    <tr>\n",
       "      <th>364</th>\n",
       "      <td>551</td>\n",
       "      <td>566</td>\n",
       "    </tr>\n",
       "    <tr>\n",
       "      <th>365</th>\n",
       "      <td>551</td>\n",
       "      <td>566</td>\n",
       "    </tr>\n",
       "  </tbody>\n",
       "</table>\n",
       "</div>"
      ],
      "text/plain": [
       "     first_rec  second_rec\n",
       "356        571         357\n",
       "357        571         356\n",
       "358        570         752\n",
       "359        570         358\n",
       "360        745         516\n",
       "361        551        1138\n",
       "362        363         551\n",
       "363        511         562\n",
       "364        551         566\n",
       "365        551         566"
      ]
     },
     "execution_count": 22,
     "metadata": {},
     "output_type": "execute_result"
    }
   ],
   "source": [
    "rec_list = []\n",
    "recommendations_df = pd.DataFrame(rec_list, columns=['first_rec', 'second_rec'])\n",
    "\n",
    "min_value = 10\n",
    "\n",
    "for course in сourse_list:\n",
    "    if recomendations(course)[0][1]>= min_value:\n",
    "        rec_1 = (set(recomendations(course)[0][0]) - set([course])).pop()\n",
    "        if recomendations(course)[1][1] >= min_value:\n",
    "            rec_2 = (set(recomendations(course)[1][0])-set([course])).pop()\n",
    "        else:\n",
    "            rec_2 = 551\n",
    "        recommendations_df.loc[course] = [rec_1, rec_2]\n",
    "    elif recomendations(course)[0][1] < min_value:\n",
    "        recommendations_df.loc[course] = [551, 566]\n",
    "        \n",
    "recommendations_df.head(10)"
   ]
  }
 ],
 "metadata": {
  "kernelspec": {
   "display_name": "Python 3",
   "language": "python",
   "name": "python3"
  },
  "language_info": {
   "codemirror_mode": {
    "name": "ipython",
    "version": 3
   },
   "file_extension": ".py",
   "mimetype": "text/x-python",
   "name": "python",
   "nbconvert_exporter": "python",
   "pygments_lexer": "ipython3",
   "version": "3.11.2"
  },
  "orig_nbformat": 4,
  "vscode": {
   "interpreter": {
    "hash": "de47f5c92c0ee6f12a59a5613ac5feff6aab19ddff207ba0b3964cced08c4ccc"
   }
  }
 },
 "nbformat": 4,
 "nbformat_minor": 2
}
